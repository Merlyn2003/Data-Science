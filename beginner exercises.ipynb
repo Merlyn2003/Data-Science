{
 "cells": [
  {
   "cell_type": "code",
   "execution_count": 3,
   "id": "c93ee9bc",
   "metadata": {},
   "outputs": [
    {
     "name": "stdout",
     "output_type": "stream",
     "text": [
      "Null Vector: [0 0 0 0 0 0 0 0 0 0]\n",
      "After Updating: [ 0  0  0  0  0  0 11  0  0  0]\n"
     ]
    }
   ],
   "source": [
    "#1.Write a NumPy program to create a null vector of size 10 and update sixth value to 11\n",
    "\n",
    "import numpy as np\n",
    "x=np.zeros(10,dtype=int)\n",
    "print(\"Null Vector:\",x)\n",
    "x[6]=11\n",
    "print(\"After Updating:\",x)"
   ]
  },
  {
   "cell_type": "code",
   "execution_count": 22,
   "id": "47d8919a",
   "metadata": {},
   "outputs": [
    {
     "name": "stdout",
     "output_type": "stream",
     "text": [
      "Original Array  [1 2 3 4]\n",
      "After convertion  [1. 2. 3. 4.]\n"
     ]
    }
   ],
   "source": [
    "#2.Write a NumPy program to convert an array to a float type (5th and 2nd are the same)\n",
    "\n",
    "a=[1,2,3,4]\n",
    "b=np.array(a)\n",
    "print(\"Original Array \",b)\n",
    "x=np.asfarray(b)\n",
    "print(\"After convertion \",x)"
   ]
  },
  {
   "cell_type": "code",
   "execution_count": 23,
   "id": "9cdb905e",
   "metadata": {},
   "outputs": [
    {
     "data": {
      "text/plain": [
       "array([[ 2,  3,  4],\n",
       "       [ 5,  6,  7],\n",
       "       [ 8,  9, 10]])"
      ]
     },
     "execution_count": 23,
     "metadata": {},
     "output_type": "execute_result"
    }
   ],
   "source": [
    "#3. Write a NumPy program to create a 3x3 matrix with values ranging from 2 to 10\n",
    "\n",
    "a=np.arange(2,11)\n",
    "a.reshape(3,3)\n"
   ]
  },
  {
   "cell_type": "code",
   "execution_count": 52,
   "id": "b0463297",
   "metadata": {},
   "outputs": [
    {
     "name": "stdout",
     "output_type": "stream",
     "text": [
      "[ 1  2  3  4  5  6  7  8  9 10]\n",
      "[22.1 45.3 23.1]\n"
     ]
    }
   ],
   "source": [
    "#4. Write a NumPy program to convert a list of numeric value into a one-dimensional NumPy array\n",
    "\n",
    "list1=[1,2,3,4,5,6,7,8,9,10]\n",
    "list2=[22.1,45.3,23.1]\n",
    "print(np.array(list1))\n",
    "print(np.array(list2))"
   ]
  },
  {
   "cell_type": "code",
   "execution_count": 30,
   "id": "b6453882",
   "metadata": {},
   "outputs": [
    {
     "name": "stdout",
     "output_type": "stream",
     "text": [
      "Empty Array\n",
      "[[6.23042070e-307 4.67296746e-307 1.69121096e-306]\n",
      " [1.60219035e-306 1.89146896e-307 7.56571288e-307]\n",
      " [3.11525958e-307 1.24610723e-306 0.00000000e+000]]\n",
      "\n",
      "Full Array\n",
      "[[2 2 2]\n",
      " [2 2 2]\n",
      " [2 2 2]]\n"
     ]
    }
   ],
   "source": [
    "#6. Write a NumPy program to create an empty and a full array\n",
    "\n",
    "print(\"Empty Array\")\n",
    "a=np.empty([3,3])\n",
    "print(a)\n",
    "print(\"\\nFull Array\")\n",
    "b=np.full([3,3],2)\n",
    "print(b)"
   ]
  },
  {
   "cell_type": "code",
   "execution_count": 31,
   "id": "f317ad79",
   "metadata": {},
   "outputs": [
    {
     "name": "stdout",
     "output_type": "stream",
     "text": [
      "[1 2 3 4 5]\n",
      "[1 2 3 4 5]\n"
     ]
    }
   ],
   "source": [
    "#7. Write a NumPy program to convert a list and tuple into arrays\n",
    "\n",
    "a=[1,2,3,4,5]\n",
    "print(np.array(a))\n",
    "b=(1,2,3,4,5)\n",
    "print(np.array(b))"
   ]
  },
  {
   "cell_type": "code",
   "execution_count": 37,
   "id": "bc881a46",
   "metadata": {
    "scrolled": true
   },
   "outputs": [
    {
     "name": "stdout",
     "output_type": "stream",
     "text": [
      "The complex number is (1+2j)\n",
      "The real part is 1.0\n",
      "The imaginary part is 2.0\n",
      "\n",
      "The complex number is (5-77j)\n",
      "The real part is 5.0\n",
      "The imaginary part is -77.0\n",
      "\n",
      "The complex number is (4-9j)\n",
      "The real part is 4.0\n",
      "The imaginary part is -9.0\n",
      "\n",
      "The complex number is (90+7j)\n",
      "The real part is 90.0\n",
      "The imaginary part is 7.0\n",
      "\n"
     ]
    }
   ],
   "source": [
    "#8. Write a NumPy program to find the real and imaginary parts of an array of complex numbers\n",
    "\n",
    "comp=[1+2j,5-77j,4-9j,90+7j]\n",
    "a=np.array(comp)\n",
    "for i in range(len(a)):\n",
    "    print(\"The complex number is {}\".format(a[i]))\n",
    "    print(\"The real part is {}\".format(a[i].real))\n",
    "    print(\"The imaginary part is {}\\n\".format(a[i].imag))"
   ]
  },
  {
   "cell_type": "code",
   "execution_count": 38,
   "id": "299ebc61",
   "metadata": {},
   "outputs": [
    {
     "name": "stdout",
     "output_type": "stream",
     "text": [
      "Select specific columns and rows:\n",
      "      name  score\n",
      "b     Dima    9.0\n",
      "d    James    NaN\n",
      "f  Michael   20.0\n",
      "g  Matthew   14.5\n"
     ]
    }
   ],
   "source": [
    "#10.Write a Pandas program to select the specified columns and rows from a given DataFrame.\n",
    "#Select 'name' and 'score' columns in rows 1, 3, 5, 6 from the following data frame.\n",
    "\n",
    "exam_data  = {'name': ['Anastasia', 'Dima', 'Katherine', 'James', 'Emily', 'Michael', 'Matthew', 'Laura', 'Kevin', 'Jonas'],\n",
    "        'score': [12.5, 9, 16.5, np.nan, 9, 20, 14.5, np.nan, 8, 19],\n",
    "        'attempts': [1, 3, 2, 3, 2, 3, 1, 1, 2, 1],\n",
    "        'qualify': ['yes', 'no', 'yes', 'no', 'no', 'yes', 'yes', 'no', 'no', 'yes']}\n",
    "labels = ['a', 'b', 'c', 'd', 'e', 'f', 'g', 'h', 'i', 'j']\n",
    "\n",
    "df = pd.DataFrame(exam_data , index=labels)\n",
    "print(\"Select specific columns and rows:\")\n",
    "print(df.iloc[[1, 3, 5, 6], [0,1]])\n"
   ]
  },
  {
   "cell_type": "code",
   "execution_count": 40,
   "id": "79cc62f4",
   "metadata": {},
   "outputs": [
    {
     "name": "stdout",
     "output_type": "stream",
     "text": [
      "Number rows  10\n",
      "Number of columns  4\n"
     ]
    }
   ],
   "source": [
    "#11.Write a Pandas program to count the number of rows and columns of a DataFrame.\n",
    "#Sample Python dictionary data and list labels:\n",
    "\n",
    "print(\"Number rows \",df.shape[0])\n",
    "print(\"Number of columns \",df.shape[1])"
   ]
  },
  {
   "cell_type": "code",
   "execution_count": 41,
   "id": "2f71ec5b",
   "metadata": {},
   "outputs": [
    {
     "name": "stdout",
     "output_type": "stream",
     "text": [
      "Number of columns  4\n"
     ]
    }
   ],
   "source": [
    "#20. Write a Pandas program to count number of columns of a DataFrame.\n",
    "\n",
    "print(\"Number of columns \",df.shape[1])"
   ]
  },
  {
   "cell_type": "code",
   "execution_count": 42,
   "id": "384ba823",
   "metadata": {},
   "outputs": [
    {
     "name": "stdout",
     "output_type": "stream",
     "text": [
      "Original DataFrame\n",
      "  col1  col2\n",
      "0   C1     1\n",
      "1   C1     2\n",
      "2   C2     3\n",
      "3   C2     3\n",
      "4   C2     4\n",
      "5   C3     6\n",
      "6   C2     5\n",
      "\n",
      "Group on the col1:\n",
      "col1\n",
      "C1          [1, 2]\n",
      "C2    [3, 3, 4, 5]\n",
      "C3             [6]\n",
      "Name: col2, dtype: object\n"
     ]
    }
   ],
   "source": [
    "#21. Write a Pandas program to group by the first column and get second column as lists in rows\n",
    "\n",
    "import pandas as pd\n",
    "df = pd.DataFrame( {'col1':['C1','C1','C2','C2','C2','C3','C2'], 'col2':[1,2,3,3,4,6,5]})\n",
    "print(\"Original DataFrame\")\n",
    "print(df)\n",
    "df = df.groupby('col1')['col2'].apply(list)\n",
    "print(\"\\nGroup on the col1:\")\n",
    "print(df)\n"
   ]
  },
  {
   "cell_type": "code",
   "execution_count": 45,
   "id": "7dbe2d83",
   "metadata": {},
   "outputs": [
    {
     "name": "stdout",
     "output_type": "stream",
     "text": [
      "Original DataFrame\n",
      "   col1  col2  col3\n",
      "0     1     4     7\n",
      "1     2     5     8\n",
      "2     3     6    12\n",
      "3     4     9     1\n",
      "4     7     5    11\n",
      "Enter the column you want to search:col2\n",
      "Present\n"
     ]
    }
   ],
   "source": [
    "#22. Write a Pandas program to check whether a given column is present in a DataFrame or not.\n",
    "\n",
    "import pandas as pd\n",
    "d = {'col1': [1, 2, 3, 4, 7], 'col2': [4, 5, 6, 9, 5], 'col3': [7, 8, 12, 1, 11]}\n",
    "df = pd.DataFrame(data=d)\n",
    "print(\"Original DataFrame\")\n",
    "print(df)\n",
    "a=input(\"Enter the column you want to search:\")\n",
    "if a in df.columns:\n",
    "    print(\"Present\")\n",
    "else:\n",
    "    print(\"Not present\")"
   ]
  },
  {
   "cell_type": "code",
   "execution_count": 46,
   "id": "c66b6abb",
   "metadata": {},
   "outputs": [
    {
     "name": "stdout",
     "output_type": "stream",
     "text": [
      "Original arrays:\n",
      "[ 10 -10  10 -10 -10  10]\n",
      "[0.85 0.45 0.9  0.8  0.12 0.6 ]\n",
      "\n",
      "Number of instances of a value occurring in one array on the condition of another array:\n",
      "3\n"
     ]
    }
   ],
   "source": [
    "#23. Create two arrays of six elements. Write a NumPy program to count the number of\n",
    "#instances of a value occurring in one array on the condition of another array.\n",
    "\n",
    "x = np.array([10,-10,10,-10,-10,10])\n",
    "y = np.array([.85,.45,.9,.8,.12,.6])\n",
    "print(\"Original arrays:\")\n",
    "print(x)\n",
    "print(y)\n",
    "result=np.sum(((x==10)&(y>.5)))\n",
    "print(\"\\nNumber of instances of a value occurring in one array on the condition of another array:\")\n",
    "print(result)"
   ]
  },
  {
   "cell_type": "code",
   "execution_count": 48,
   "id": "e46c71fe",
   "metadata": {},
   "outputs": [
    {
     "name": "stdout",
     "output_type": "stream",
     "text": [
      "Original Numpy array:\n",
      "[[1 2 3]\n",
      " [2 1 2]]\n",
      "Type:  <class 'numpy.ndarray'>\n",
      "Sequence: 1,2\n",
      "Number of occurrences of the said sequence: 2\n"
     ]
    }
   ],
   "source": [
    "#24. Create a 2-dimensional array of size 2 x 3, composed of 4-byte integer elements. Write a\n",
    "#NumPy program to find the number of occurrences of a sequence in the said array.\n",
    "\n",
    "np_array = np.array([[1, 2, 3], [2, 1, 2]], np.int32)\n",
    "print(\"Original Numpy array:\")\n",
    "print(np_array)\n",
    "print(\"Type: \",type(np_array))\n",
    "print(\"Sequence: 1,2\",)\n",
    "result = repr(np_array).count(\"1, 2\")\n",
    "print(\"Number of occurrences of the said sequence:\",result)"
   ]
  },
  {
   "cell_type": "code",
   "execution_count": 49,
   "id": "14f75b60",
   "metadata": {},
   "outputs": [
    {
     "name": "stdout",
     "output_type": "stream",
     "text": [
      "Original arrays:\n",
      "[1 2 3 4]\n",
      "[5 6 7 8]\n",
      "[ 9 10 11 12]\n",
      "\n",
      "After concatenate:\n",
      "[ 1  2  3  4  5  6  7  8  9 10 11 12]\n"
     ]
    }
   ],
   "source": [
    "#25. Write a NumPy program to merge three given NumPy arrays of same shape\n",
    "\n",
    "arr1 = np.array([1,2,3,4])\n",
    "arr2 = np.array([5,6,7,8])\n",
    "arr3 = np.array([9,10,11,12])\n",
    "print(\"Original arrays:\")\n",
    "print(arr1)\n",
    "print(arr2)\n",
    "print(arr3)\n",
    "result = np.concatenate((arr1, arr2, arr3))\n",
    "print(\"\\nAfter concatenate:\")\n",
    "print(result) "
   ]
  },
  {
   "cell_type": "code",
   "execution_count": 53,
   "id": "7d27519a",
   "metadata": {},
   "outputs": [
    {
     "name": "stdout",
     "output_type": "stream",
     "text": [
      "Original arrays:\n",
      "['PHP' 'JS' 'C++']\n",
      "['Python' 'C#' 'NumPy']\n",
      "\n",
      "After Combining:\n",
      "['PHP' 'JS' 'C++Python' 'C#' 'NumPy']\n"
     ]
    }
   ],
   "source": [
    "#26. Write a NumPy program to combine last element with first element of two given ndarray with different shapes.\n",
    "\n",
    "array1 =np.array(['PHP','JS','C++'])\n",
    "array2 = np.array(['Python','C#', 'NumPy'])    \n",
    "print(\"Original arrays:\")          \n",
    "print(array1)\n",
    "print(array2)          \n",
    "result  = np.r_[array1[:-1], [array1[-1]+array2[0]], array2[1:]]   \n",
    "print(\"\\nAfter Combining:\")       \n",
    "print(result)\n"
   ]
  },
  {
   "cell_type": "code",
   "execution_count": null,
   "id": "ac4307fd",
   "metadata": {},
   "outputs": [],
   "source": []
  }
 ],
 "metadata": {
  "kernelspec": {
   "display_name": "Python 3 (ipykernel)",
   "language": "python",
   "name": "python3"
  },
  "language_info": {
   "codemirror_mode": {
    "name": "ipython",
    "version": 3
   },
   "file_extension": ".py",
   "mimetype": "text/x-python",
   "name": "python",
   "nbconvert_exporter": "python",
   "pygments_lexer": "ipython3",
   "version": "3.9.13"
  }
 },
 "nbformat": 4,
 "nbformat_minor": 5
}
